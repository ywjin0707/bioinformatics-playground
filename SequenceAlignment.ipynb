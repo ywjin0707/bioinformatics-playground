{
  "nbformat": 4,
  "nbformat_minor": 0,
  "metadata": {
    "colab": {
      "name": "SequenceAlignment.ipynb",
      "provenance": [],
      "authorship_tag": "ABX9TyOaBWxdfNElcWzxO9XNeDtO",
      "include_colab_link": true
    },
    "kernelspec": {
      "name": "python3",
      "display_name": "Python 3"
    },
    "language_info": {
      "name": "python"
    }
  },
  "cells": [
    {
      "cell_type": "markdown",
      "metadata": {
        "id": "view-in-github",
        "colab_type": "text"
      },
      "source": [
        "<a href=\"https://colab.research.google.com/github/ywjin0707/bioinformatics-playground/blob/main/SequenceAlignment.ipynb\" target=\"_parent\"><img src=\"https://colab.research.google.com/assets/colab-badge.svg\" alt=\"Open In Colab\"/></a>"
      ]
    },
    {
      "cell_type": "markdown",
      "source": [
        "# Sequence Alignment\n",
        "This is my attempt to make an algorithm to align short oligonucleotide code onto a short reference genome after reading the [STAR paper by Dobin et al. 2013](https://dx.doi.org/10.1093%2Fbioinformatics%2Fbts635).  \n",
        "After reading, I came to the realization that the 'uncompressed suffix array' the authors talked about were much like n-grams if the code is treated as a string. A little differently from the STAR alignment strategy, I decided to find the longest matching n-gram between the query and reference and use that as anchor to match ***both the prefix and the suffix***.  "
      ],
      "metadata": {
        "id": "7P-QBGuf-oi3"
      }
    },
    {
      "cell_type": "code",
      "source": [
        "# !pip install python-levenshtein"
      ],
      "metadata": {
        "id": "XvXqfQgnU5AZ"
      },
      "execution_count": null,
      "outputs": []
    },
    {
      "cell_type": "code",
      "execution_count": null,
      "metadata": {
        "id": "17yFU0Z9d4yi"
      },
      "outputs": [],
      "source": [
        "from nltk.util import *\n",
        "# from Levenshtein import *"
      ]
    },
    {
      "cell_type": "code",
      "source": [
        "reference = 'ACTGGGTACGTAGCGTAGGAGACGAATCGATCGCTCTTCTTTCCTAGCAAATCGACCTAACGCATACGCA'\n",
        "query = 'ACGCTAGCTAGCTCAGACTAG' # Handle one query for now for pairwise alignment. "
      ],
      "metadata": {
        "id": "5p5GQRu7eKFg"
      },
      "execution_count": null,
      "outputs": []
    },
    {
      "cell_type": "code",
      "source": [
        "grams_ref = list(everygrams(reference))"
      ],
      "metadata": {
        "id": "1uQNDBsheKzs"
      },
      "execution_count": null,
      "outputs": []
    },
    {
      "cell_type": "code",
      "source": [
        "grams_query = list(everygrams(query))"
      ],
      "metadata": {
        "id": "wdao8hOViapF"
      },
      "execution_count": null,
      "outputs": []
    },
    {
      "cell_type": "code",
      "source": [
        "grams_query.sort(key=len, reverse=True) # Sort to search for longest match first"
      ],
      "metadata": {
        "id": "-mx1HegsqBLd"
      },
      "execution_count": null,
      "outputs": []
    },
    {
      "cell_type": "code",
      "source": [
        "## Find Maximal Mappable Prefixes (MMPs)\n",
        "for gram in grams_query:\n",
        "  if gram in grams_ref:\n",
        "    seed = ''.join(gram)\n",
        "    idx_ref = reference.index(seed) # Currently only finds the first index. In the future repeat and multiple mapping should be considered\n",
        "    idx_query = query.index(seed)\n",
        "    # print(seed)\n",
        "    # print(idx)\n",
        "    # print(reference[idx:idx+len(seed)])\n",
        "    break\n"
      ],
      "metadata": {
        "id": "D6JiDHqwpMRb"
      },
      "execution_count": null,
      "outputs": []
    },
    {
      "cell_type": "code",
      "source": [
        "split_query = query.split(seed) # change to index-based slicing later\n",
        "if len(split_query) > 1:\n",
        "  prefix = split_query[0]\n",
        "suffix = split_query[-1]"
      ],
      "metadata": {
        "id": "m7rx_OfhpSw3"
      },
      "execution_count": null,
      "outputs": []
    },
    {
      "cell_type": "code",
      "source": [
        "prefix"
      ],
      "metadata": {
        "colab": {
          "base_uri": "https://localhost:8080/",
          "height": 35
        },
        "id": "Q0kk72ywpZm4",
        "outputId": "c772bfba-3691-41ce-b098-49cce8cfba59"
      },
      "execution_count": null,
      "outputs": [
        {
          "output_type": "execute_result",
          "data": {
            "application/vnd.google.colaboratory.intrinsic+json": {
              "type": "string"
            },
            "text/plain": [
              "'ACG'"
            ]
          },
          "metadata": {},
          "execution_count": 24
        }
      ]
    },
    {
      "cell_type": "code",
      "source": [
        "suffix"
      ],
      "metadata": {
        "colab": {
          "base_uri": "https://localhost:8080/",
          "height": 35
        },
        "id": "kDtuyOCQvWIW",
        "outputId": "1a1fb647-7eee-4eff-d3a6-a15bebce3f93"
      },
      "execution_count": null,
      "outputs": [
        {
          "output_type": "execute_result",
          "data": {
            "application/vnd.google.colaboratory.intrinsic+json": {
              "type": "string"
            },
            "text/plain": [
              "'TAGCTCAGACTAG'"
            ]
          },
          "metadata": {},
          "execution_count": 20
        }
      ]
    },
    {
      "cell_type": "code",
      "source": [
        "# Use recursion to solve\n",
        "def findAlignment(ref, query, refidx=0):\n",
        "  print('=================================================================')\n",
        "  if len(ref) == 0:\n",
        "    print('ref length 0!')\n",
        "    return\n",
        "  global reference\n",
        "  global alignedSeq\n",
        "  global currentLen\n",
        "  print('original reference seq: ', reference)\n",
        "  print('current reference seq: ', ref)\n",
        "  print('query seq: ', query)\n",
        "\n",
        "  # max_seed_Len = -1 if max_seed_L > len(ref) else max_seed_L # adjust to length of ref sequence\n",
        "  grams_ref = list(everygrams(ref))#, min_len=min_seed_L, max_len=max_seed_L))\n",
        "  # max_seed_Len = -1 if max_seed_L > len(query) else max_seed_L # adjust to length of query sequence\n",
        "  grams_query = list(everygrams(query))#, min_len=min_seed_L, max_len=max_seed_Len))\n",
        "  # Sort to search for longest match first\n",
        "  grams_query.sort(key=len, reverse=True)\n",
        "  ## Initialize values\n",
        "  seed = ''\n",
        "  idx_ref = 0\n",
        "  idx_query = len(query)\n",
        "  ## Find Maximal Mappable Prefixes (MMPs)\n",
        "  for gram in grams_query:\n",
        "    if gram in grams_ref:\n",
        "      seed = ''.join(gram)\n",
        "      idx_ref = ref.index(seed)\n",
        "      idx_query = query.index(seed)\n",
        "      break\n",
        "  idx_reference = refidx + idx_ref # Currently only finds the first index. In the future repeat and multiple mapping should be considered\n",
        "  ## For debugging\n",
        "  print('Seed: ', seed)\n",
        "  print('Start index: ', idx_reference, '   End index: ', idx_reference+len(seed))\n",
        "  # print(reference[idx_reference:idx_reference+len(seed)])\n",
        "  if len(seed) > 0:\n",
        "    alignedSeq.append({seed:{'idx_start':idx_reference, 'idx_end':idx_reference+len(seed)}})\n",
        "    # if currentLen < len(query):\n",
        "    prefix = query[:idx_query]\n",
        "    suffix = query[idx_query+len(seed):]\n",
        "    print('prefix: ', prefix)\n",
        "    print('suffix: ', suffix)\n",
        "    if len(prefix) > 1 & len(prefix) < len(ref[:idx_ref]):\n",
        "      findAlignment(ref[:idx_ref], prefix, refidx=refidx)\n",
        "    elif len(prefix) == 1:\n",
        "      alignedSeq.append({prefix:{'idx_start': refidx, 'idx_end': refidx+len(prefix)}})\n",
        "    if len(suffix) > 1 & len(suffix) < len(ref[idx_ref+len(seed):]):\n",
        "      findAlignment(ref[idx_ref+len(seed):], suffix, refidx=refidx+idx_ref+len(seed))\n",
        "    elif len(suffix) == 1:\n",
        "      alignedSeq.append({suffix:{'idx_start': refidx, 'idx_end': refidx+len(suffix)}})\n",
        "  else:\n",
        "    alignedSeq.append({query:{'idx_start': idx_reference, 'idx_end': idx_reference+len(query)}})\n"
      ],
      "metadata": {
        "id": "FIQToCDyvXGU"
      },
      "execution_count": null,
      "outputs": []
    },
    {
      "cell_type": "code",
      "source": [
        "alignedSeq = []\n",
        "currentLen = 0\n",
        "findAlignment(reference, query)"
      ],
      "metadata": {
        "colab": {
          "base_uri": "https://localhost:8080/"
        },
        "id": "YK0xS8prvYHu",
        "outputId": "976d9435-0017-4062-ca9a-d8871ca52e56"
      },
      "execution_count": null,
      "outputs": [
        {
          "output_type": "stream",
          "name": "stdout",
          "text": [
            "=================================================================\n",
            "original reference seq:  ACTGGGTACGTAGCGTAGGAGACGAATCGATCGCTCTTCTTTCCTAGCAAATCGACCTAACGCATACGCA\n",
            "current reference seq:  ACTGGGTACGTAGCGTAGGAGACGAATCGATCGCTCTTCTTTCCTAGCAAATCGACCTAACGCATACGCA\n",
            "query seq:  ACGCTAGCTAGCTCAGACTAG\n",
            "Seed:  CTAGC\n",
            "Start index:  43    End index:  48\n",
            "prefix:  ACG\n",
            "suffix:  TAGCTCAGACTAG\n",
            "=================================================================\n",
            "original reference seq:  ACTGGGTACGTAGCGTAGGAGACGAATCGATCGCTCTTCTTTCCTAGCAAATCGACCTAACGCATACGCA\n",
            "current reference seq:  ACTGGGTACGTAGCGTAGGAGACGAATCGATCGCTCTTCTTTC\n",
            "query seq:  ACG\n",
            "Seed:  ACG\n",
            "Start index:  7    End index:  10\n",
            "prefix:  \n",
            "suffix:  \n",
            "=================================================================\n",
            "original reference seq:  ACTGGGTACGTAGCGTAGGAGACGAATCGATCGCTCTTCTTTCCTAGCAAATCGACCTAACGCATACGCA\n",
            "current reference seq:  AAATCGACCTAACGCATACGCA\n",
            "query seq:  TAGCTCAGACTAG\n",
            "Seed:  GAC\n",
            "Start index:  53    End index:  56\n",
            "prefix:  TAGCTCA\n",
            "suffix:  TAG\n",
            "=================================================================\n",
            "original reference seq:  ACTGGGTACGTAGCGTAGGAGACGAATCGATCGCTCTTCTTTCCTAGCAAATCGACCTAACGCATACGCA\n",
            "current reference seq:  AAATC\n",
            "query seq:  TAGCTCA\n",
            "Seed:  TC\n",
            "Start index:  51    End index:  53\n",
            "prefix:  TAGC\n",
            "suffix:  A\n",
            "=================================================================\n",
            "original reference seq:  ACTGGGTACGTAGCGTAGGAGACGAATCGATCGCTCTTCTTTCCTAGCAAATCGACCTAACGCATACGCA\n",
            "current reference seq:  AAA\n",
            "query seq:  TAGC\n",
            "Seed:  A\n",
            "Start index:  48    End index:  49\n",
            "prefix:  T\n",
            "suffix:  GC\n",
            "=================================================================\n",
            "original reference seq:  ACTGGGTACGTAGCGTAGGAGACGAATCGATCGCTCTTCTTTCCTAGCAAATCGACCTAACGCATACGCA\n",
            "current reference seq:  AA\n",
            "query seq:  GC\n",
            "Seed:  \n",
            "Start index:  49    End index:  49\n",
            "=================================================================\n",
            "original reference seq:  ACTGGGTACGTAGCGTAGGAGACGAATCGATCGCTCTTCTTTCCTAGCAAATCGACCTAACGCATACGCA\n",
            "current reference seq:  CTAACGCATACGCA\n",
            "query seq:  TAG\n",
            "Seed:  TA\n",
            "Start index:  57    End index:  59\n",
            "prefix:  \n",
            "suffix:  G\n"
          ]
        }
      ]
    },
    {
      "cell_type": "code",
      "source": [
        "alignedSeq"
      ],
      "metadata": {
        "colab": {
          "base_uri": "https://localhost:8080/"
        },
        "id": "y1Ps16TJvrpq",
        "outputId": "dc9b7917-c1f8-46d7-9fd4-e5dd44868531"
      },
      "execution_count": null,
      "outputs": [
        {
          "output_type": "execute_result",
          "data": {
            "text/plain": [
              "[{'CTAGC': {'idx_end': 48, 'idx_start': 43}},\n",
              " {'ACG': {'idx_end': 10, 'idx_start': 7}},\n",
              " {'GAC': {'idx_end': 56, 'idx_start': 53}},\n",
              " {'TC': {'idx_end': 53, 'idx_start': 51}},\n",
              " {'A': {'idx_end': 49, 'idx_start': 48}},\n",
              " {'T': {'idx_end': 49, 'idx_start': 48}},\n",
              " {'GC': {'idx_end': 51, 'idx_start': 49}},\n",
              " {'A': {'idx_end': 49, 'idx_start': 48}},\n",
              " {'TA': {'idx_end': 59, 'idx_start': 57}},\n",
              " {'G': {'idx_end': 57, 'idx_start': 56}}]"
            ]
          },
          "metadata": {},
          "execution_count": 134
        }
      ]
    },
    {
      "cell_type": "code",
      "source": [
        "import pandas as pd"
      ],
      "metadata": {
        "id": "Uij2prDpxujv"
      },
      "execution_count": null,
      "outputs": []
    },
    {
      "cell_type": "code",
      "source": [
        "df = pd.DataFrame({'reference':[s for s in reference],\n",
        "                   'query':['-']*len(reference)})"
      ],
      "metadata": {
        "id": "DmJkQOC3utHN"
      },
      "execution_count": null,
      "outputs": []
    },
    {
      "cell_type": "code",
      "source": [
        "for seed_dict in alignedSeq:\n",
        "  for seed, idxs in seed_dict.items():\n",
        "    df.iloc[idxs['idx_start']:idxs['idx_end'],1] = [s for s in seed]"
      ],
      "metadata": {
        "id": "Tk1a_AN7u1CK"
      },
      "execution_count": null,
      "outputs": []
    },
    {
      "cell_type": "code",
      "source": [
        "def findMismatch(row):\n",
        "  if row['query'] == '-':\n",
        "    return ' '\n",
        "  elif row['query'] == row['reference']:\n",
        "    return ' '\n",
        "  else:\n",
        "    return 'X'"
      ],
      "metadata": {
        "id": "B24qTtmF51dn"
      },
      "execution_count": null,
      "outputs": []
    },
    {
      "cell_type": "code",
      "source": [
        "df['mismatch'] = df.apply(lambda row: findMismatch(row), axis=1)\n",
        "df.T"
      ],
      "metadata": {
        "colab": {
          "base_uri": "https://localhost:8080/",
          "height": 207
        },
        "id": "2LkEahqD6m66",
        "outputId": "31469461-6eaa-4a5e-8363-beb36d583d48"
      },
      "execution_count": null,
      "outputs": [
        {
          "output_type": "execute_result",
          "data": {
            "text/html": [
              "\n",
              "  <div id=\"df-82e5b7e3-43f4-471a-9529-681068f11aa8\">\n",
              "    <div class=\"colab-df-container\">\n",
              "      <div>\n",
              "<style scoped>\n",
              "    .dataframe tbody tr th:only-of-type {\n",
              "        vertical-align: middle;\n",
              "    }\n",
              "\n",
              "    .dataframe tbody tr th {\n",
              "        vertical-align: top;\n",
              "    }\n",
              "\n",
              "    .dataframe thead th {\n",
              "        text-align: right;\n",
              "    }\n",
              "</style>\n",
              "<table border=\"1\" class=\"dataframe\">\n",
              "  <thead>\n",
              "    <tr style=\"text-align: right;\">\n",
              "      <th></th>\n",
              "      <th>0</th>\n",
              "      <th>1</th>\n",
              "      <th>2</th>\n",
              "      <th>3</th>\n",
              "      <th>4</th>\n",
              "      <th>5</th>\n",
              "      <th>6</th>\n",
              "      <th>7</th>\n",
              "      <th>8</th>\n",
              "      <th>9</th>\n",
              "      <th>10</th>\n",
              "      <th>11</th>\n",
              "      <th>12</th>\n",
              "      <th>13</th>\n",
              "      <th>14</th>\n",
              "      <th>15</th>\n",
              "      <th>16</th>\n",
              "      <th>17</th>\n",
              "      <th>18</th>\n",
              "      <th>19</th>\n",
              "      <th>20</th>\n",
              "      <th>21</th>\n",
              "      <th>22</th>\n",
              "      <th>23</th>\n",
              "      <th>24</th>\n",
              "      <th>25</th>\n",
              "      <th>26</th>\n",
              "      <th>27</th>\n",
              "      <th>28</th>\n",
              "      <th>29</th>\n",
              "      <th>30</th>\n",
              "      <th>31</th>\n",
              "      <th>32</th>\n",
              "      <th>33</th>\n",
              "      <th>34</th>\n",
              "      <th>35</th>\n",
              "      <th>36</th>\n",
              "      <th>37</th>\n",
              "      <th>38</th>\n",
              "      <th>39</th>\n",
              "      <th>40</th>\n",
              "      <th>41</th>\n",
              "      <th>42</th>\n",
              "      <th>43</th>\n",
              "      <th>44</th>\n",
              "      <th>45</th>\n",
              "      <th>46</th>\n",
              "      <th>47</th>\n",
              "      <th>48</th>\n",
              "      <th>49</th>\n",
              "      <th>50</th>\n",
              "      <th>51</th>\n",
              "      <th>52</th>\n",
              "      <th>53</th>\n",
              "      <th>54</th>\n",
              "      <th>55</th>\n",
              "      <th>56</th>\n",
              "      <th>57</th>\n",
              "      <th>58</th>\n",
              "      <th>59</th>\n",
              "      <th>60</th>\n",
              "      <th>61</th>\n",
              "      <th>62</th>\n",
              "      <th>63</th>\n",
              "      <th>64</th>\n",
              "      <th>65</th>\n",
              "      <th>66</th>\n",
              "      <th>67</th>\n",
              "      <th>68</th>\n",
              "      <th>69</th>\n",
              "    </tr>\n",
              "  </thead>\n",
              "  <tbody>\n",
              "    <tr>\n",
              "      <th>reference</th>\n",
              "      <td>A</td>\n",
              "      <td>C</td>\n",
              "      <td>T</td>\n",
              "      <td>G</td>\n",
              "      <td>G</td>\n",
              "      <td>G</td>\n",
              "      <td>T</td>\n",
              "      <td>A</td>\n",
              "      <td>C</td>\n",
              "      <td>G</td>\n",
              "      <td>T</td>\n",
              "      <td>A</td>\n",
              "      <td>G</td>\n",
              "      <td>C</td>\n",
              "      <td>G</td>\n",
              "      <td>T</td>\n",
              "      <td>A</td>\n",
              "      <td>G</td>\n",
              "      <td>G</td>\n",
              "      <td>A</td>\n",
              "      <td>G</td>\n",
              "      <td>A</td>\n",
              "      <td>C</td>\n",
              "      <td>G</td>\n",
              "      <td>A</td>\n",
              "      <td>A</td>\n",
              "      <td>T</td>\n",
              "      <td>C</td>\n",
              "      <td>G</td>\n",
              "      <td>A</td>\n",
              "      <td>T</td>\n",
              "      <td>C</td>\n",
              "      <td>G</td>\n",
              "      <td>C</td>\n",
              "      <td>T</td>\n",
              "      <td>C</td>\n",
              "      <td>T</td>\n",
              "      <td>T</td>\n",
              "      <td>C</td>\n",
              "      <td>T</td>\n",
              "      <td>T</td>\n",
              "      <td>T</td>\n",
              "      <td>C</td>\n",
              "      <td>C</td>\n",
              "      <td>T</td>\n",
              "      <td>A</td>\n",
              "      <td>G</td>\n",
              "      <td>C</td>\n",
              "      <td>A</td>\n",
              "      <td>A</td>\n",
              "      <td>A</td>\n",
              "      <td>T</td>\n",
              "      <td>C</td>\n",
              "      <td>G</td>\n",
              "      <td>A</td>\n",
              "      <td>C</td>\n",
              "      <td>C</td>\n",
              "      <td>T</td>\n",
              "      <td>A</td>\n",
              "      <td>A</td>\n",
              "      <td>C</td>\n",
              "      <td>G</td>\n",
              "      <td>C</td>\n",
              "      <td>A</td>\n",
              "      <td>T</td>\n",
              "      <td>A</td>\n",
              "      <td>C</td>\n",
              "      <td>G</td>\n",
              "      <td>C</td>\n",
              "      <td>A</td>\n",
              "    </tr>\n",
              "    <tr>\n",
              "      <th>query</th>\n",
              "      <td>-</td>\n",
              "      <td>-</td>\n",
              "      <td>-</td>\n",
              "      <td>-</td>\n",
              "      <td>-</td>\n",
              "      <td>-</td>\n",
              "      <td>-</td>\n",
              "      <td>A</td>\n",
              "      <td>C</td>\n",
              "      <td>G</td>\n",
              "      <td>-</td>\n",
              "      <td>-</td>\n",
              "      <td>-</td>\n",
              "      <td>-</td>\n",
              "      <td>-</td>\n",
              "      <td>-</td>\n",
              "      <td>-</td>\n",
              "      <td>-</td>\n",
              "      <td>-</td>\n",
              "      <td>-</td>\n",
              "      <td>-</td>\n",
              "      <td>-</td>\n",
              "      <td>-</td>\n",
              "      <td>-</td>\n",
              "      <td>-</td>\n",
              "      <td>-</td>\n",
              "      <td>-</td>\n",
              "      <td>-</td>\n",
              "      <td>-</td>\n",
              "      <td>-</td>\n",
              "      <td>-</td>\n",
              "      <td>-</td>\n",
              "      <td>-</td>\n",
              "      <td>-</td>\n",
              "      <td>-</td>\n",
              "      <td>-</td>\n",
              "      <td>-</td>\n",
              "      <td>-</td>\n",
              "      <td>-</td>\n",
              "      <td>-</td>\n",
              "      <td>-</td>\n",
              "      <td>-</td>\n",
              "      <td>-</td>\n",
              "      <td>C</td>\n",
              "      <td>T</td>\n",
              "      <td>A</td>\n",
              "      <td>G</td>\n",
              "      <td>C</td>\n",
              "      <td>A</td>\n",
              "      <td>G</td>\n",
              "      <td>C</td>\n",
              "      <td>T</td>\n",
              "      <td>C</td>\n",
              "      <td>G</td>\n",
              "      <td>A</td>\n",
              "      <td>C</td>\n",
              "      <td>G</td>\n",
              "      <td>T</td>\n",
              "      <td>A</td>\n",
              "      <td>-</td>\n",
              "      <td>-</td>\n",
              "      <td>-</td>\n",
              "      <td>-</td>\n",
              "      <td>-</td>\n",
              "      <td>-</td>\n",
              "      <td>-</td>\n",
              "      <td>-</td>\n",
              "      <td>-</td>\n",
              "      <td>-</td>\n",
              "      <td>-</td>\n",
              "    </tr>\n",
              "    <tr>\n",
              "      <th>mismatch</th>\n",
              "      <td></td>\n",
              "      <td></td>\n",
              "      <td></td>\n",
              "      <td></td>\n",
              "      <td></td>\n",
              "      <td></td>\n",
              "      <td></td>\n",
              "      <td></td>\n",
              "      <td></td>\n",
              "      <td></td>\n",
              "      <td></td>\n",
              "      <td></td>\n",
              "      <td></td>\n",
              "      <td></td>\n",
              "      <td></td>\n",
              "      <td></td>\n",
              "      <td></td>\n",
              "      <td></td>\n",
              "      <td></td>\n",
              "      <td></td>\n",
              "      <td></td>\n",
              "      <td></td>\n",
              "      <td></td>\n",
              "      <td></td>\n",
              "      <td></td>\n",
              "      <td></td>\n",
              "      <td></td>\n",
              "      <td></td>\n",
              "      <td></td>\n",
              "      <td></td>\n",
              "      <td></td>\n",
              "      <td></td>\n",
              "      <td></td>\n",
              "      <td></td>\n",
              "      <td></td>\n",
              "      <td></td>\n",
              "      <td></td>\n",
              "      <td></td>\n",
              "      <td></td>\n",
              "      <td></td>\n",
              "      <td></td>\n",
              "      <td></td>\n",
              "      <td></td>\n",
              "      <td></td>\n",
              "      <td></td>\n",
              "      <td></td>\n",
              "      <td></td>\n",
              "      <td></td>\n",
              "      <td></td>\n",
              "      <td>X</td>\n",
              "      <td>X</td>\n",
              "      <td></td>\n",
              "      <td></td>\n",
              "      <td></td>\n",
              "      <td></td>\n",
              "      <td></td>\n",
              "      <td>X</td>\n",
              "      <td></td>\n",
              "      <td></td>\n",
              "      <td></td>\n",
              "      <td></td>\n",
              "      <td></td>\n",
              "      <td></td>\n",
              "      <td></td>\n",
              "      <td></td>\n",
              "      <td></td>\n",
              "      <td></td>\n",
              "      <td></td>\n",
              "      <td></td>\n",
              "      <td></td>\n",
              "    </tr>\n",
              "  </tbody>\n",
              "</table>\n",
              "</div>\n",
              "      <button class=\"colab-df-convert\" onclick=\"convertToInteractive('df-82e5b7e3-43f4-471a-9529-681068f11aa8')\"\n",
              "              title=\"Convert this dataframe to an interactive table.\"\n",
              "              style=\"display:none;\">\n",
              "        \n",
              "  <svg xmlns=\"http://www.w3.org/2000/svg\" height=\"24px\"viewBox=\"0 0 24 24\"\n",
              "       width=\"24px\">\n",
              "    <path d=\"M0 0h24v24H0V0z\" fill=\"none\"/>\n",
              "    <path d=\"M18.56 5.44l.94 2.06.94-2.06 2.06-.94-2.06-.94-.94-2.06-.94 2.06-2.06.94zm-11 1L8.5 8.5l.94-2.06 2.06-.94-2.06-.94L8.5 2.5l-.94 2.06-2.06.94zm10 10l.94 2.06.94-2.06 2.06-.94-2.06-.94-.94-2.06-.94 2.06-2.06.94z\"/><path d=\"M17.41 7.96l-1.37-1.37c-.4-.4-.92-.59-1.43-.59-.52 0-1.04.2-1.43.59L10.3 9.45l-7.72 7.72c-.78.78-.78 2.05 0 2.83L4 21.41c.39.39.9.59 1.41.59.51 0 1.02-.2 1.41-.59l7.78-7.78 2.81-2.81c.8-.78.8-2.07 0-2.86zM5.41 20L4 18.59l7.72-7.72 1.47 1.35L5.41 20z\"/>\n",
              "  </svg>\n",
              "      </button>\n",
              "      \n",
              "  <style>\n",
              "    .colab-df-container {\n",
              "      display:flex;\n",
              "      flex-wrap:wrap;\n",
              "      gap: 12px;\n",
              "    }\n",
              "\n",
              "    .colab-df-convert {\n",
              "      background-color: #E8F0FE;\n",
              "      border: none;\n",
              "      border-radius: 50%;\n",
              "      cursor: pointer;\n",
              "      display: none;\n",
              "      fill: #1967D2;\n",
              "      height: 32px;\n",
              "      padding: 0 0 0 0;\n",
              "      width: 32px;\n",
              "    }\n",
              "\n",
              "    .colab-df-convert:hover {\n",
              "      background-color: #E2EBFA;\n",
              "      box-shadow: 0px 1px 2px rgba(60, 64, 67, 0.3), 0px 1px 3px 1px rgba(60, 64, 67, 0.15);\n",
              "      fill: #174EA6;\n",
              "    }\n",
              "\n",
              "    [theme=dark] .colab-df-convert {\n",
              "      background-color: #3B4455;\n",
              "      fill: #D2E3FC;\n",
              "    }\n",
              "\n",
              "    [theme=dark] .colab-df-convert:hover {\n",
              "      background-color: #434B5C;\n",
              "      box-shadow: 0px 1px 3px 1px rgba(0, 0, 0, 0.15);\n",
              "      filter: drop-shadow(0px 1px 2px rgba(0, 0, 0, 0.3));\n",
              "      fill: #FFFFFF;\n",
              "    }\n",
              "  </style>\n",
              "\n",
              "      <script>\n",
              "        const buttonEl =\n",
              "          document.querySelector('#df-82e5b7e3-43f4-471a-9529-681068f11aa8 button.colab-df-convert');\n",
              "        buttonEl.style.display =\n",
              "          google.colab.kernel.accessAllowed ? 'block' : 'none';\n",
              "\n",
              "        async function convertToInteractive(key) {\n",
              "          const element = document.querySelector('#df-82e5b7e3-43f4-471a-9529-681068f11aa8');\n",
              "          const dataTable =\n",
              "            await google.colab.kernel.invokeFunction('convertToInteractive',\n",
              "                                                     [key], {});\n",
              "          if (!dataTable) return;\n",
              "\n",
              "          const docLinkHtml = 'Like what you see? Visit the ' +\n",
              "            '<a target=\"_blank\" href=https://colab.research.google.com/notebooks/data_table.ipynb>data table notebook</a>'\n",
              "            + ' to learn more about interactive tables.';\n",
              "          element.innerHTML = '';\n",
              "          dataTable['output_type'] = 'display_data';\n",
              "          await google.colab.output.renderOutput(dataTable, element);\n",
              "          const docLink = document.createElement('div');\n",
              "          docLink.innerHTML = docLinkHtml;\n",
              "          element.appendChild(docLink);\n",
              "        }\n",
              "      </script>\n",
              "    </div>\n",
              "  </div>\n",
              "  "
            ],
            "text/plain": [
              "          0  1  2  3  4  5  6  7  8  9  10  ... 59 60 61 62 63 64 65 66 67 68 69\n",
              "reference  A  C  T  G  G  G  T  A  C  G  T  ...  A  C  G  C  A  T  A  C  G  C  A\n",
              "query      -  -  -  -  -  -  -  A  C  G  -  ...  -  -  -  -  -  -  -  -  -  -  -\n",
              "mismatch                                    ...                                 \n",
              "\n",
              "[3 rows x 70 columns]"
            ]
          },
          "metadata": {},
          "execution_count": 175
        }
      ]
    },
    {
      "cell_type": "code",
      "source": [
        ""
      ],
      "metadata": {
        "id": "I864srta909O"
      },
      "execution_count": null,
      "outputs": []
    }
  ]
}